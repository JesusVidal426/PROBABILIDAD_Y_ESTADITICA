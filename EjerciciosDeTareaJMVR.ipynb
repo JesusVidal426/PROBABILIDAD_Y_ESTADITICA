{
  "nbformat": 4,
  "nbformat_minor": 0,
  "metadata": {
    "colab": {
      "provenance": []
    },
    "kernelspec": {
      "name": "python3",
      "display_name": "Python 3"
    },
    "language_info": {
      "name": "python"
    }
  },
  "cells": [
    {
      "cell_type": "markdown",
      "source": [
        "#EJERCICIOS DE TAREA\n",
        "###EJERCICIO 1\n",
        "\n",
        "En este problema se hace uso la distribución de Poisson, porque no se está\n",
        "determinando la probabilidad de éxito o fracaso de un evento,\n",
        "sino que se está evaluando la cantidad de personas que ingresan a un hospital."
      ],
      "metadata": {
        "id": "Xbxua4YIbG6Z"
      }
    },
    {
      "cell_type": "code",
      "source": [
        "from scipy.stats import poisson\n",
        "from scipy.stats import binom\n",
        "# Parámetros\n",
        "ingresos_dia = 0\n",
        "media_poisson = 5\n",
        "ingresos_dos = 2\n",
        "ingresos_mas_10 = 10\n",
        "\n",
        "# a) Probabilidad de que el número de ingresos sea 2\n",
        "prob_ingresos_dos = poisson.pmf(ingresos_dos, media_poisson)\n",
        "print(\"Probabilidad de que sean 2 ingresos: \", prob_ingresos_dos)\n",
        "\n",
        "# b) Probabilidad de que el número de ingresos sea mayor que 10\n",
        "prob_ingresos_mas_10 = 1 - poisson.cdf(ingresos_mas_10, media_poisson)\n",
        "print(\"Probabilidad de que sean más de 10 ingresos: \", prob_ingresos_mas_10)\n",
        "\n",
        "# Evaluación si es probable que sea mayor que 10\n",
        "if prob_ingresos_mas_10 > 0.5:\n",
        "    es_mayor_10 = \"Sí\"\n",
        "else:\n",
        "    es_mayor_10 = \"No\"\n",
        "\n",
        "print(\"¿Es posible que sean mayor que 10?: \", es_mayor_10)"
      ],
      "metadata": {
        "colab": {
          "base_uri": "https://localhost:8080/"
        },
        "id": "3kReeiV6bkvi",
        "outputId": "efcf8bbc-aaab-4efc-c789-d21042005116"
      },
      "execution_count": 2,
      "outputs": [
        {
          "output_type": "stream",
          "name": "stdout",
          "text": [
            "Probabilidad de que sean 2 ingresos:  0.08422433748856832\n",
            "Probabilidad de que sean más de 10 ingresos:  0.013695268598382881\n",
            "¿Es posible que sean mayor que 10?:  No\n"
          ]
        }
      ]
    },
    {
      "cell_type": "markdown",
      "source": [
        "El cálculo de P(X>10) nos indicará si es probable que el número de ingresos\n",
        "exceda de 10. Generalmente, en una distribución de Poisson con una media de 5,\n",
        "la probabilidad de que el número de eventos sea mucho mayor que la media tiende\n",
        "a ser baja, porque la distribución de Poisson está concentrada alrededor de su media."
      ],
      "metadata": {
        "id": "iVbBiB-ob0qR"
      }
    },
    {
      "cell_type": "markdown",
      "source": [
        "#EJERCICIO 2\n",
        "\n",
        "en este segundo problema se usa la distribucion binominal devido a que se busca\n",
        "calcular si un evento es exitoso o no en cierta cantidad de intentos"
      ],
      "metadata": {
        "id": "vKpcWswpcIPT"
      }
    },
    {
      "cell_type": "code",
      "source": [
        "# Parámetros\n",
        "tasa_defectuosa = 0.001\n",
        "num_motores = 1000\n",
        "motores_0_def = 0\n",
        "motores_3_def = 3\n",
        "motores_4_def = 4\n",
        "\n",
        "# a) Probabilidades de distintos números de motores defectuosos\n",
        "prob_0_def = binom.pmf(motores_0_def, num_motores, tasa_defectuosa)\n",
        "prob_3_def = binom.pmf(motores_3_def, num_motores, tasa_defectuosa)\n",
        "prob_4_def = binom.pmf(motores_4_def, num_motores, tasa_defectuosa)\n",
        "\n",
        "# Impresión de resultados\n",
        "print(\"Probabilidad de que no haya ningún motor defectuoso: \", prob_0_def)\n",
        "print(\"Probabilidad de que haya 3 motores defectuosos: \", prob_3_def)\n",
        "print(\"Probabilidad de que haya 4 motores defectuosos: \", prob_4_def)"
      ],
      "metadata": {
        "id": "1MOZDWMeca_r"
      },
      "execution_count": null,
      "outputs": []
    }
  ]
}